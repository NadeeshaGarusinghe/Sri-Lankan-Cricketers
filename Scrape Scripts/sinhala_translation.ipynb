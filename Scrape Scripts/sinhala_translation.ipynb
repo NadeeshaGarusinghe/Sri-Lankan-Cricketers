{
  "nbformat": 4,
  "nbformat_minor": 0,
  "metadata": {
    "colab": {
      "name": "sinhala verison.ipynb",
      "provenance": [],
      "collapsed_sections": []
    },
    "kernelspec": {
      "name": "python3",
      "display_name": "Python 3"
    },
    "language_info": {
      "name": "python"
    }
  },
  "cells": [
    {
      "cell_type": "code",
      "metadata": {
        "id": "-Zxcbai0WKzz"
      },
      "source": [
        "!pip install googletrans==3.1.0a0"
      ],
      "execution_count": null,
      "outputs": []
    },
    {
      "cell_type": "code",
      "metadata": {
        "id": "Toh06L0XWOdx"
      },
      "source": [
        "from googletrans import Translator\n",
        "translator = Translator(service_urls=['translate.googleapis.com'])"
      ],
      "execution_count": null,
      "outputs": []
    },
    {
      "cell_type": "code",
      "metadata": {
        "id": "jbX5stxXgzIM"
      },
      "source": [
        "final = []#import final data"
      ],
      "execution_count": null,
      "outputs": []
    },
    {
      "cell_type": "code",
      "metadata": {
        "id": "XNNMyVuZWjTI"
      },
      "source": [
        "count=0\n",
        "for i in final:\n",
        "  count=count+1\n",
        "  print (count)\n",
        "  \n",
        "  try:\n",
        "    result = translator.translate(text=i['සම්පූර්ණ නම'], src='auto', dest='si')\n",
        "    i['සම්පූර්ණ නම']=result.text\n",
        "  except:\n",
        "    continue\n",
        "\n",
        "  try:\n",
        "    result = translator.translate(text=i['උපන් ගම සහ වර්ෂය'], src='auto', dest='si')\n",
        "    i['උපන් ගම සහ වර්ෂය']=result.text\n",
        "  except:\n",
        "    continue\n",
        "\n",
        "  try:\n",
        "    result = translator.translate(text=i['පාසල'], src='auto', dest='si')\n",
        "    i['පාසල']=result.text\n",
        "  except:\n",
        "    continue\n",
        "\n",
        "  try:\n",
        "      result = translator.translate(text=i['ජීවන දත්ත'], src='auto', dest='si')\n",
        "      i['ජීවන දත්ත']=result.text\n",
        "  except:\n",
        "      continue\n",
        "\n",
        "  try:\n",
        "    for j in range(len(i['කණ්ඩායම්'])):\n",
        "      result = translator.translate(text=i['කණ්ඩායම්'][j], src='auto', dest='si')\n",
        "      i['කණ්ඩායම්'][j]=result.text\n",
        "  except:\n",
        "    continue\n",
        "\n",
        "  try:\n",
        "    for k in range(len(i['පුද්ගල වාර්තා'])):\n",
        "      result = translator.translate(text=i['පුද්ගල වාර්තා'][k], src='auto', dest='si')\n",
        "      i['පුද්ගල වාර්තා'][k]=result.text\n",
        "  except:\n",
        "    continue"
      ],
      "execution_count": null,
      "outputs": []
    },
    {
      "cell_type": "code",
      "metadata": {
        "id": "XmFgSzl237Ak"
      },
      "source": [
        "final"
      ],
      "execution_count": null,
      "outputs": []
    }
  ]
}